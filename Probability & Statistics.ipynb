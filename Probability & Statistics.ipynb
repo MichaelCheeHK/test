{
 "cells": [
  {
   "cell_type": "markdown",
   "id": "unavailable-traffic",
   "metadata": {},
   "source": [
    "# Roll Dice"
   ]
  },
  {
   "cell_type": "code",
   "execution_count": 1,
   "id": "severe-transfer",
   "metadata": {},
   "outputs": [],
   "source": [
    "# In a single toss of  fair (evenly-weighted) -sided dice, find the probability of that their sum \n",
    "# will be at most 9"
   ]
  },
  {
   "cell_type": "code",
   "execution_count": 2,
   "id": "moderate-short",
   "metadata": {},
   "outputs": [],
   "source": [
    "dice_list=list(range(1, 7))"
   ]
  },
  {
   "cell_type": "code",
   "execution_count": 3,
   "id": "weekly-vault",
   "metadata": {},
   "outputs": [
    {
     "data": {
      "text/plain": [
       "[1, 2, 3, 4, 5, 6]"
      ]
     },
     "execution_count": 3,
     "metadata": {},
     "output_type": "execute_result"
    }
   ],
   "source": [
    "dice_list"
   ]
  },
  {
   "cell_type": "code",
   "execution_count": 6,
   "id": "extra-understanding",
   "metadata": {},
   "outputs": [],
   "source": [
    "count=0\n",
    "for i in dice_list:\n",
    "    for j in dice_list:\n",
    "        if i+j<=9:\n",
    "            count+=1"
   ]
  },
  {
   "cell_type": "code",
   "execution_count": 7,
   "id": "going-handling",
   "metadata": {},
   "outputs": [
    {
     "data": {
      "text/plain": [
       "30"
      ]
     },
     "execution_count": 7,
     "metadata": {},
     "output_type": "execute_result"
    }
   ],
   "source": [
    "count"
   ]
  },
  {
   "cell_type": "code",
   "execution_count": 8,
   "id": "worst-force",
   "metadata": {},
   "outputs": [
    {
     "data": {
      "text/plain": [
       "0.8333333333333334"
      ]
     },
     "execution_count": 8,
     "metadata": {},
     "output_type": "execute_result"
    }
   ],
   "source": [
    "# Probabilites<09 would be\n",
    "30/36"
   ]
  },
  {
   "cell_type": "code",
   "execution_count": 9,
   "id": "juvenile-greeting",
   "metadata": {},
   "outputs": [],
   "source": [
    "# For a single toss of 2 fair (evenly-weighted) dice, find the probability that the values rolled \n",
    "# by each die will be different and their sum is 6"
   ]
  },
  {
   "cell_type": "code",
   "execution_count": 11,
   "id": "initial-missouri",
   "metadata": {},
   "outputs": [],
   "source": [
    "count=0\n",
    "for i in dice_list:\n",
    "    for j in dice_list:\n",
    "        if i!=j and i+j==6:\n",
    "            count+=1"
   ]
  },
  {
   "cell_type": "code",
   "execution_count": 12,
   "id": "graduate-signature",
   "metadata": {},
   "outputs": [
    {
     "data": {
      "text/plain": [
       "4"
      ]
     },
     "execution_count": 12,
     "metadata": {},
     "output_type": "execute_result"
    }
   ],
   "source": [
    "count"
   ]
  },
  {
   "cell_type": "code",
   "execution_count": 14,
   "id": "compressed-sociology",
   "metadata": {},
   "outputs": [
    {
     "data": {
      "text/plain": [
       "0.1111111111111111"
      ]
     },
     "execution_count": 14,
     "metadata": {},
     "output_type": "execute_result"
    }
   ],
   "source": [
    "# Probabilites would be\n",
    "4/36"
   ]
  },
  {
   "cell_type": "markdown",
   "id": "outstanding-guyana",
   "metadata": {},
   "source": [
    "# Draw Balls"
   ]
  },
  {
   "cell_type": "code",
   "execution_count": 15,
   "id": "close-barbados",
   "metadata": {},
   "outputs": [],
   "source": [
    "# There are 3 urns: X, Y and Z.\n",
    "# Urn X contains 4 red balls and 3 black balls.\n",
    "# Urn Y contains 5 red balls and 4 black balls.\n",
    "# Urn Z contains 4 red balls and 4 black balls.\n",
    "# One ball is drawn from each urn. What is the probability that the 3 balls drawn consist of 2 red balls and 1 black ball?"
   ]
  },
  {
   "cell_type": "code",
   "execution_count": 18,
   "id": "impaired-entertainment",
   "metadata": {},
   "outputs": [],
   "source": [
    "x_list=[1]*4+[0]*3\n",
    "y_list=[1]*5+[0]*4\n",
    "z_list=[1]*4+[0]*4"
   ]
  },
  {
   "cell_type": "code",
   "execution_count": 21,
   "id": "amazing-rwanda",
   "metadata": {},
   "outputs": [],
   "source": [
    "count_total=0\n",
    "count=0\n",
    "for x in x_list:\n",
    "    for y in y_list:\n",
    "        for z in z_list:\n",
    "            count_total+=1\n",
    "            if x+y+z==2:\n",
    "                count+=1"
   ]
  },
  {
   "cell_type": "code",
   "execution_count": 27,
   "id": "computational-couple",
   "metadata": {},
   "outputs": [
    {
     "data": {
      "text/plain": [
       "204"
      ]
     },
     "execution_count": 27,
     "metadata": {},
     "output_type": "execute_result"
    }
   ],
   "source": [
    "count"
   ]
  },
  {
   "cell_type": "code",
   "execution_count": 23,
   "id": "floating-provision",
   "metadata": {},
   "outputs": [
    {
     "data": {
      "text/plain": [
       "504"
      ]
     },
     "execution_count": 23,
     "metadata": {},
     "output_type": "execute_result"
    }
   ],
   "source": [
    "count_total"
   ]
  },
  {
   "cell_type": "code",
   "execution_count": 148,
   "id": "intended-relevance",
   "metadata": {},
   "outputs": [
    {
     "data": {
      "text/plain": [
       "12"
      ]
     },
     "execution_count": 148,
     "metadata": {},
     "output_type": "execute_result"
    }
   ],
   "source": [
    "math.gcd(204, 504)"
   ]
  },
  {
   "cell_type": "code",
   "execution_count": 149,
   "id": "owned-christopher",
   "metadata": {},
   "outputs": [],
   "source": [
    "# Bag X: 5 white 4 black; Bag Y: 7 while 6 black\n",
    "# draw 1 ball from X and put it into Y\n",
    "# draw 1 ball from Y, probability to be black"
   ]
  },
  {
   "cell_type": "code",
   "execution_count": 150,
   "id": "quiet-connection",
   "metadata": {},
   "outputs": [],
   "source": [
    "x_white=5\n",
    "x_black=4\n",
    "y_white=7\n",
    "y_black=6"
   ]
  },
  {
   "cell_type": "code",
   "execution_count": 151,
   "id": "forward-configuration",
   "metadata": {},
   "outputs": [],
   "source": [
    "n_x=x_white+x_black\n",
    "n_y=y_white+y_black"
   ]
  },
  {
   "cell_type": "code",
   "execution_count": 152,
   "id": "exclusive-reply",
   "metadata": {},
   "outputs": [
    {
     "data": {
      "text/plain": [
       "0.23809523809523808"
      ]
     },
     "execution_count": 152,
     "metadata": {},
     "output_type": "execute_result"
    }
   ],
   "source": [
    "# Probably draw white in X and draw black in y\n",
    "(x_white/n_x)*((y_black)/(n_y+1))"
   ]
  },
  {
   "cell_type": "code",
   "execution_count": 153,
   "id": "wrong-residence",
   "metadata": {},
   "outputs": [
    {
     "data": {
      "text/plain": [
       "0.2222222222222222"
      ]
     },
     "execution_count": 153,
     "metadata": {},
     "output_type": "execute_result"
    }
   ],
   "source": [
    "# Probably draw black in X and draw black in y\n",
    "(x_black/n_x)*((y_black+1)/(n_y+1))"
   ]
  },
  {
   "cell_type": "code",
   "execution_count": 154,
   "id": "manufactured-atlanta",
   "metadata": {},
   "outputs": [
    {
     "data": {
      "text/plain": [
       "58"
      ]
     },
     "execution_count": 154,
     "metadata": {},
     "output_type": "execute_result"
    }
   ],
   "source": [
    "x_white*y_black+x_black*(y_black+1)"
   ]
  },
  {
   "cell_type": "code",
   "execution_count": 155,
   "id": "hundred-bride",
   "metadata": {},
   "outputs": [
    {
     "data": {
      "text/plain": [
       "126"
      ]
     },
     "execution_count": 155,
     "metadata": {},
     "output_type": "execute_result"
    }
   ],
   "source": [
    "n_x*(n_y+1)"
   ]
  },
  {
   "cell_type": "code",
   "execution_count": 156,
   "id": "united-brake",
   "metadata": {},
   "outputs": [
    {
     "data": {
      "text/plain": [
       "2"
      ]
     },
     "execution_count": 156,
     "metadata": {},
     "output_type": "execute_result"
    }
   ],
   "source": [
    "math.gcd(58, 126)"
   ]
  },
  {
   "cell_type": "markdown",
   "id": "forced-honolulu",
   "metadata": {},
   "source": [
    "# Bayesian"
   ]
  },
  {
   "cell_type": "code",
   "execution_count": null,
   "id": "collected-animation",
   "metadata": {},
   "outputs": [],
   "source": [
    "# A firm produces steel pipes in three plants.\n",
    "# Plant A produce 500 and defective of 0.005\n",
    "# Plant B produce 1000 and defective of 0.008\n",
    "# Plant C produce 2000 and defective of 0.010\n",
    "# a pip is defective, probability from plant A"
   ]
  },
  {
   "cell_type": "code",
   "execution_count": 157,
   "id": "intelligent-baltimore",
   "metadata": {},
   "outputs": [
    {
     "data": {
      "text/plain": [
       "0.14285714285714285"
      ]
     },
     "execution_count": 157,
     "metadata": {},
     "output_type": "execute_result"
    }
   ],
   "source": [
    "# Probablity the pip is from plant A\n",
    "500/(500+1000+2000)"
   ]
  },
  {
   "cell_type": "code",
   "execution_count": 158,
   "id": "thick-tobacco",
   "metadata": {},
   "outputs": [
    {
     "data": {
      "text/plain": [
       "0.0007142857142857143"
      ]
     },
     "execution_count": 158,
     "metadata": {},
     "output_type": "execute_result"
    }
   ],
   "source": [
    "# Probablity the pip is defective an from plant a\n",
    "0.005*(500/(500+1000+2000))"
   ]
  },
  {
   "cell_type": "code",
   "execution_count": 167,
   "id": "protected-bouquet",
   "metadata": {},
   "outputs": [
    {
     "data": {
      "text/plain": [
       "0.008714285714285714"
      ]
     },
     "execution_count": 167,
     "metadata": {},
     "output_type": "execute_result"
    }
   ],
   "source": [
    "# Probability the pip is defection\n",
    "(0.005*500+0.008*1000+0.01*2000)/((500+1000+2000))"
   ]
  },
  {
   "cell_type": "code",
   "execution_count": null,
   "id": "indian-delhi",
   "metadata": {},
   "outputs": [],
   "source": [
    "# Probability the defective pip from plan A\n",
    "# (Probability from A*Probability from A and Defective)/probability defective"
   ]
  },
  {
   "cell_type": "code",
   "execution_count": 169,
   "id": "defined-fellow",
   "metadata": {},
   "outputs": [
    {
     "data": {
      "text/plain": [
       "5"
      ]
     },
     "execution_count": 169,
     "metadata": {},
     "output_type": "execute_result"
    }
   ],
   "source": [
    "math.gcd(25, 305)"
   ]
  },
  {
   "cell_type": "markdown",
   "id": "likely-ideal",
   "metadata": {},
   "source": [
    "# Probabilities"
   ]
  },
  {
   "cell_type": "code",
   "execution_count": null,
   "id": "broadband-charleston",
   "metadata": {},
   "outputs": [],
   "source": [
    "# Probability not reading morning paper 1/2\n",
    "# Probability not reading evening paper 2/5\n",
    "# Probability reading both morning evening 1/5\n",
    "# Get probability reading either morning or evening"
   ]
  },
  {
   "cell_type": "code",
   "execution_count": 172,
   "id": "fatal-patient",
   "metadata": {},
   "outputs": [],
   "source": [
    "p1=1-1/2\n",
    "p2=1-2/5\n",
    "p12=1/5"
   ]
  },
  {
   "cell_type": "code",
   "execution_count": 173,
   "id": "political-coordinate",
   "metadata": {},
   "outputs": [
    {
     "data": {
      "text/plain": [
       "0.9000000000000001"
      ]
     },
     "execution_count": 173,
     "metadata": {},
     "output_type": "execute_result"
    }
   ],
   "source": [
    "p1+p2-p12"
   ]
  },
  {
   "cell_type": "code",
   "execution_count": 174,
   "id": "fabulous-myanmar",
   "metadata": {},
   "outputs": [],
   "source": [
    "# A candidate is select for interview of management trainees for 3 companies\n",
    "# Company1 12 candidates; Company2 15; Company3 10\n",
    "# Calculate probability a candiate is selected in at least one of the companies"
   ]
  },
  {
   "cell_type": "code",
   "execution_count": 176,
   "id": "otherwise-actress",
   "metadata": {},
   "outputs": [
    {
     "data": {
      "text/plain": [
       "0.7699999999999999"
      ]
     },
     "execution_count": 176,
     "metadata": {},
     "output_type": "execute_result"
    }
   ],
   "source": [
    "# Probabilities not selected from any companies\n",
    "11/12*14/15*9/10"
   ]
  },
  {
   "cell_type": "code",
   "execution_count": 177,
   "id": "induced-company",
   "metadata": {},
   "outputs": [
    {
     "data": {
      "text/plain": [
       "0.2300000000000001"
      ]
     },
     "execution_count": 177,
     "metadata": {},
     "output_type": "execute_result"
    }
   ],
   "source": [
    "# Probabilities selected by any of the companies\n",
    "1-11/12*14/15*9/10"
   ]
  },
  {
   "cell_type": "code",
   "execution_count": 178,
   "id": "occupational-flush",
   "metadata": {},
   "outputs": [],
   "source": [
    "# Bill and Nina appear for two vacancines\n",
    "# Probability Bill was selected is 1/3 and Nina is 1/5\n",
    "# Get the probability that only one of them will be selected\n",
    "# Bill and Nina's interview are independent with each other"
   ]
  },
  {
   "cell_type": "code",
   "execution_count": 179,
   "id": "standing-proposal",
   "metadata": {},
   "outputs": [
    {
     "data": {
      "text/plain": [
       "0.06666666666666667"
      ]
     },
     "execution_count": 179,
     "metadata": {},
     "output_type": "execute_result"
    }
   ],
   "source": [
    "# Bill select not Nina\n",
    "1/3*4/5"
   ]
  },
  {
   "cell_type": "code",
   "execution_count": 180,
   "id": "ultimate-growing",
   "metadata": {},
   "outputs": [
    {
     "data": {
      "text/plain": [
       "0.5333333333333333"
      ]
     },
     "execution_count": 180,
     "metadata": {},
     "output_type": "execute_result"
    }
   ],
   "source": [
    "# Nina select not Bill\n",
    "2/3*1/5"
   ]
  },
  {
   "cell_type": "markdown",
   "id": "opponent-workstation",
   "metadata": {},
   "source": [
    "# The Central Limit Theorem"
   ]
  },
  {
   "cell_type": "code",
   "execution_count": 28,
   "id": "periodic-sullivan",
   "metadata": {},
   "outputs": [],
   "source": [
    "# A large elevator can transport a maximum of 9800 pounds. \n",
    "# Suppose a load of cargo containing 49 boxes must be transported\n",
    "# The box weight of this type of cargo follows a distribution with a mean of µ=205 pounds and a standard\n",
    "# deviation of 15 poudns. Based on this information, what is the probability that all 49 boxes can be\n",
    "# safely loaded onto the freight elevator and transported?"
   ]
  },
  {
   "cell_type": "code",
   "execution_count": 34,
   "id": "consecutive-steal",
   "metadata": {},
   "outputs": [],
   "source": [
    "mean=205\n",
    "sigma=15\n",
    "value=9800\n",
    "n=49"
   ]
  },
  {
   "cell_type": "code",
   "execution_count": 51,
   "id": "humanitarian-hawaii",
   "metadata": {},
   "outputs": [],
   "source": [
    "import math\n",
    "mean_total=mean*n\n",
    "sigma_total=math.sqrt(n)*sigma"
   ]
  },
  {
   "cell_type": "code",
   "execution_count": 55,
   "id": "fifteen-feature",
   "metadata": {},
   "outputs": [],
   "source": [
    "z_score=(value-mean_total)/sigma_total"
   ]
  },
  {
   "cell_type": "code",
   "execution_count": 56,
   "id": "dying-dividend",
   "metadata": {},
   "outputs": [
    {
     "data": {
      "text/plain": [
       "-2.3333333333333335"
      ]
     },
     "execution_count": 56,
     "metadata": {},
     "output_type": "execute_result"
    }
   ],
   "source": [
    "z_score"
   ]
  },
  {
   "cell_type": "code",
   "execution_count": 57,
   "id": "plastic-methodology",
   "metadata": {},
   "outputs": [
    {
     "data": {
      "text/plain": [
       "0.009815328628645334"
      ]
     },
     "execution_count": 57,
     "metadata": {},
     "output_type": "execute_result"
    }
   ],
   "source": [
    "from scipy.stats import norm\n",
    "# norm.sf could convert z-score to p-value\n",
    "norm.sf(abs(z_score),loc=0, scale=1) #one tail"
   ]
  },
  {
   "cell_type": "code",
   "execution_count": 58,
   "id": "secondary-breeding",
   "metadata": {},
   "outputs": [
    {
     "data": {
      "text/plain": [
       "0.009815328628645334"
      ]
     },
     "execution_count": 58,
     "metadata": {},
     "output_type": "execute_result"
    }
   ],
   "source": [
    "# cdf would calculate the probability of x<=given value\n",
    "norm.cdf(value,loc=mean_total, scale=sigma_total)"
   ]
  },
  {
   "cell_type": "code",
   "execution_count": 59,
   "id": "polyphonic-migration",
   "metadata": {},
   "outputs": [],
   "source": [
    "# The number of tickets purchased by each student for ootball game follows a distribution that\n",
    "# mean of µ=2.4 and a standard deviation of 2.0\n",
    "# there are 100 eager students standing in line to purchase tickets. \n",
    "# If there are only 250 tickets left, , what is the probability that all 100 students will be \n",
    "# able to purchase the tickets they want?"
   ]
  },
  {
   "cell_type": "code",
   "execution_count": 60,
   "id": "excited-stage",
   "metadata": {},
   "outputs": [],
   "source": [
    "mean=2.4\n",
    "sigma=2.0\n",
    "n=100\n",
    "value=250"
   ]
  },
  {
   "cell_type": "code",
   "execution_count": 64,
   "id": "closed-barcelona",
   "metadata": {},
   "outputs": [],
   "source": [
    "import math\n",
    "mean_total=mean*n\n",
    "sigma_total=math.sqrt(n)*sigma"
   ]
  },
  {
   "cell_type": "code",
   "execution_count": 65,
   "id": "decreased-vegetable",
   "metadata": {},
   "outputs": [
    {
     "data": {
      "text/plain": [
       "0.6914624612740131"
      ]
     },
     "execution_count": 65,
     "metadata": {},
     "output_type": "execute_result"
    }
   ],
   "source": [
    "# cdf would calculate the probability of x<=given value\n",
    "norm.cdf(value,loc=mean_total, scale=sigma_total)"
   ]
  },
  {
   "cell_type": "code",
   "execution_count": 66,
   "id": "smoking-agreement",
   "metadata": {},
   "outputs": [],
   "source": [
    "# You have a sample of 100 values from a population with mean µ = 500 \n",
    "# and with standard deviation σ = 80. What is the probability that the sample mean \n",
    "# will be in the interval (490, 510)?"
   ]
  },
  {
   "cell_type": "code",
   "execution_count": 67,
   "id": "comprehensive-parking",
   "metadata": {},
   "outputs": [],
   "source": [
    "p_mean=500\n",
    "p_sigma=80"
   ]
  },
  {
   "cell_type": "code",
   "execution_count": 72,
   "id": "pending-mexican",
   "metadata": {},
   "outputs": [],
   "source": [
    "s_mean=500\n",
    "s_sigma=p_sigma/math.sqrt(n)"
   ]
  },
  {
   "cell_type": "code",
   "execution_count": 73,
   "id": "heated-snapshot",
   "metadata": {},
   "outputs": [
    {
     "data": {
      "text/plain": [
       "0.8943502263331446"
      ]
     },
     "execution_count": 73,
     "metadata": {},
     "output_type": "execute_result"
    }
   ],
   "source": [
    "# probabilities<=510\n",
    "norm.cdf(510,loc=s_mean, scale=s_sigma)"
   ]
  },
  {
   "cell_type": "code",
   "execution_count": 74,
   "id": "hearing-makeup",
   "metadata": {},
   "outputs": [
    {
     "data": {
      "text/plain": [
       "0.10564977366685535"
      ]
     },
     "execution_count": 74,
     "metadata": {},
     "output_type": "execute_result"
    }
   ],
   "source": [
    "# probabilities<=490\n",
    "norm.cdf(490,loc=s_mean, scale=s_sigma)"
   ]
  },
  {
   "cell_type": "code",
   "execution_count": 75,
   "id": "former-mistress",
   "metadata": {},
   "outputs": [
    {
     "data": {
      "text/plain": [
       "0.7887004526662893"
      ]
     },
     "execution_count": 75,
     "metadata": {},
     "output_type": "execute_result"
    }
   ],
   "source": [
    "# Probabilities between 490 and 510\n",
    "norm.cdf(510,loc=s_mean, scale=s_sigma)-norm.cdf(490,loc=s_mean, scale=s_sigma)"
   ]
  },
  {
   "cell_type": "code",
   "execution_count": 76,
   "id": "reasonable-arctic",
   "metadata": {},
   "outputs": [],
   "source": [
    "# You have a sample of 100 values from a population with mean µ = 500 and with standard deviation σ = 80. \n",
    "# Compute the interval that covers the middle 95% of the distribution of the sample mean"
   ]
  },
  {
   "cell_type": "code",
   "execution_count": 78,
   "id": "conditional-bosnia",
   "metadata": {},
   "outputs": [],
   "source": [
    "# One-tail 95% z-score\n",
    "z_score=norm.ppf(0.025, loc=0, scale=1)"
   ]
  },
  {
   "cell_type": "code",
   "execution_count": 79,
   "id": "documented-manchester",
   "metadata": {},
   "outputs": [
    {
     "data": {
      "text/plain": [
       "[484.3202881236796, 515.6797118763204]"
      ]
     },
     "execution_count": 79,
     "metadata": {},
     "output_type": "execute_result"
    }
   ],
   "source": [
    "# Confidence Interval\n",
    "[s_mean-abs(z_score)*s_sigma, s_mean+abs(z_score)*s_sigma]"
   ]
  },
  {
   "cell_type": "code",
   "execution_count": null,
   "id": "sophisticated-musician",
   "metadata": {},
   "outputs": [],
   "source": [
    "# The amount of regular unleaded gas purchased every week at a particular gas station follows\n",
    "# the normal distribution with a mean of 50000 gallons and a standard deviation of 10000 gallons. \n",
    "# The starting supply of gasoline is 74000 gallons, and there is a scheduled weekly delivery of \n",
    "# 47000 gallons.\n",
    "# Compute the probability that, after 11 weeks, the supply of gasoline will be below 20000 gallons."
   ]
  },
  {
   "cell_type": "code",
   "execution_count": 80,
   "id": "fossil-projection",
   "metadata": {},
   "outputs": [],
   "source": [
    "mean=50000\n",
    "sigma=10000\n",
    "n=11\n",
    "value=74000-20000+47000*11"
   ]
  },
  {
   "cell_type": "code",
   "execution_count": 82,
   "id": "oriented-headquarters",
   "metadata": {},
   "outputs": [
    {
     "data": {
      "text/plain": [
       "571000"
      ]
     },
     "execution_count": 82,
     "metadata": {},
     "output_type": "execute_result"
    }
   ],
   "source": [
    "# Actually we calculate the probability tha total consumption in 11 weeks>=value\n",
    "value"
   ]
  },
  {
   "cell_type": "code",
   "execution_count": 83,
   "id": "suffering-variation",
   "metadata": {},
   "outputs": [],
   "source": [
    "import math\n",
    "mean_total=mean*n\n",
    "sigma_total=math.sqrt(n)*sigma"
   ]
  },
  {
   "cell_type": "code",
   "execution_count": 86,
   "id": "handled-weight",
   "metadata": {},
   "outputs": [
    {
     "data": {
      "text/plain": [
       "0.7366899311950657"
      ]
     },
     "execution_count": 86,
     "metadata": {},
     "output_type": "execute_result"
    }
   ],
   "source": [
    "# cdf would calculate the probability of x<=given value\n",
    "norm.cdf(value,loc=mean_total, scale=sigma_total)"
   ]
  },
  {
   "cell_type": "code",
   "execution_count": 87,
   "id": "optimum-inspection",
   "metadata": {},
   "outputs": [
    {
     "data": {
      "text/plain": [
       "0.26331006880493435"
      ]
     },
     "execution_count": 87,
     "metadata": {},
     "output_type": "execute_result"
    }
   ],
   "source": [
    "# Therefore, the result should be 1-norm.cdf\n",
    "1-norm.cdf(value,loc=mean_total, scale=sigma_total)"
   ]
  },
  {
   "cell_type": "code",
   "execution_count": 88,
   "id": "impaired-hobby",
   "metadata": {},
   "outputs": [],
   "source": [
    "# How many gallons should the weekly delivery be so that after 11 weeks the probability that \n",
    "# the supply is below 20000 gallons is only 0.5%?"
   ]
  },
  {
   "cell_type": "code",
   "execution_count": 96,
   "id": "eleven-belarus",
   "metadata": {},
   "outputs": [],
   "source": [
    "# Get one-tail z-score with p=0.5%\n",
    "z_score=norm.ppf(0.005, loc=0, scale=1)"
   ]
  },
  {
   "cell_type": "code",
   "execution_count": 97,
   "id": "fatty-costs",
   "metadata": {},
   "outputs": [
    {
     "data": {
      "text/plain": [
       "-2.575829303548901"
      ]
     },
     "execution_count": 97,
     "metadata": {},
     "output_type": "execute_result"
    }
   ],
   "source": [
    "z_score"
   ]
  },
  {
   "cell_type": "code",
   "execution_count": 98,
   "id": "olympic-story",
   "metadata": {},
   "outputs": [],
   "source": [
    "# Get consumption threshold\n",
    "threshold=mean_total+abs(z_score)*sigma_total"
   ]
  },
  {
   "cell_type": "code",
   "execution_count": 100,
   "id": "central-amount",
   "metadata": {},
   "outputs": [
    {
     "data": {
      "text/plain": [
       "52857.32665806742"
      ]
     },
     "execution_count": 100,
     "metadata": {},
     "output_type": "execute_result"
    }
   ],
   "source": [
    "# Get weekly delivery\n",
    "(20000+threshold-74000)/11"
   ]
  },
  {
   "cell_type": "markdown",
   "id": "balanced-fever",
   "metadata": {},
   "source": [
    "# Standard Deviation Puzzles"
   ]
  }
 ],
 "metadata": {
  "kernelspec": {
   "display_name": "Python 3",
   "language": "python",
   "name": "python3"
  },
  "language_info": {
   "codemirror_mode": {
    "name": "ipython",
    "version": 3
   },
   "file_extension": ".py",
   "mimetype": "text/x-python",
   "name": "python",
   "nbconvert_exporter": "python",
   "pygments_lexer": "ipython3",
   "version": "3.7.3"
  }
 },
 "nbformat": 4,
 "nbformat_minor": 5
}
