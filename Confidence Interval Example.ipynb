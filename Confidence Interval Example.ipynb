{
 "cells": [
  {
   "cell_type": "code",
   "execution_count": 2,
   "metadata": {},
   "outputs": [],
   "source": [
    "import numpy as np\n",
    "from scipy import stats"
   ]
  },
  {
   "cell_type": "markdown",
   "metadata": {},
   "source": [
    "### 1. Mimic sample mean distribution when we take sample 5000 times"
   ]
  },
  {
   "cell_type": "code",
   "execution_count": 3,
   "metadata": {},
   "outputs": [],
   "source": [
    "# Based on central limit theorem, if we take sample many times (5000 times), \n",
    "# the sample mean will follow normal distribution no matter what population distribution is.\n",
    "# Therefore, we could mimic the sample mean distribution through defining Gaussian distributed data (size=5000)\n",
    "# Assume population mean=2 and variance=1.\n",
    "import matplotlib.pyplot as plt\n",
    "N=5000\n",
    "p = np.random.randn(N) + 2"
   ]
  },
  {
   "cell_type": "code",
   "execution_count": 4,
   "metadata": {},
   "outputs": [
    {
     "data": {
      "image/png": "[encoded data removed]",
      "text/plain": [
       "<Figure size 432x288 with 1 Axes>"
      ]
     },
     "metadata": {
      "needs_background": "light"
     },
     "output_type": "display_data"
    }
   ],
   "source": [
    "# If we take one sample, there is 95% chance that the sample will fall in a range of population mean+=1.96*population std\n",
    "# As highligted below\n",
    "fig, ax = plt.subplots()\n",
    "plt.hist(p, bins=50, color='c', edgecolor='k', alpha=0.65)\n",
    "plt.axvline(2+(-1.96)*1, color='k', linestyle='dashed', linewidth=1)\n",
    "plt.axvline(2+1.96*1, color='k', linestyle='dashed', linewidth=1)\n",
    "ax.axvspan(2+(-1.96)*1, 2+1.96*1, alpha=0.1, color='blue')\n",
    "plt.show()"
   ]
  },
  {
   "cell_type": "markdown",
   "metadata": {},
   "source": [
    "### 2. But in reality, we only take sample once"
   ]
  },
  {
   "cell_type": "code",
   "execution_count": 5,
   "metadata": {},
   "outputs": [],
   "source": [
    "# Assume the sample size=20\n",
    "from random import sample\n",
    "s=sample(list(p),20)"
   ]
  },
  {
   "cell_type": "code",
   "execution_count": 6,
   "metadata": {},
   "outputs": [],
   "source": [
    "# Calculate sample mean and sample standard deviation\n",
    "s_mean=np.mean(s)\n",
    "s_std=np.std(s)"
   ]
  },
  {
   "cell_type": "code",
   "execution_count": 7,
   "metadata": {},
   "outputs": [
    {
     "data": {
      "text/plain": [
       "2.0504614424671073"
      ]
     },
     "execution_count": 7,
     "metadata": {},
     "output_type": "execute_result"
    }
   ],
   "source": [
    "# The sample mean is 2.16\n",
    "s_mean"
   ]
  },
  {
   "cell_type": "code",
   "execution_count": 8,
   "metadata": {},
   "outputs": [
    {
     "data": {
      "image/png": "[encoded data removed]",
      "text/plain": [
       "<Figure size 432x288 with 1 Axes>"
      ]
     },
     "metadata": {
      "needs_background": "light"
     },
     "output_type": "display_data"
    }
   ],
   "source": [
    "# The line is the real mean while the red dot in x-axis is the sample mean\n",
    "plt.hist(p, bins=50, color='c', edgecolor='k', alpha=0.65)\n",
    "plt.plot(s_mean, 0, 'ro', ms=10)\n",
    "plt.axvline(2, color='k', linestyle='dashed', linewidth=1)\n",
    "plt.show()"
   ]
  },
  {
   "cell_type": "markdown",
   "metadata": {},
   "source": [
    "### 3. Calculate the confidence interval"
   ]
  },
  {
   "cell_type": "code",
   "execution_count": 9,
   "metadata": {},
   "outputs": [],
   "source": [
    "# Because most times we do not know population variance\n",
    "# Therefore, we should use t-score and sample std to calculate confidence interval"
   ]
  },
  {
   "cell_type": "code",
   "execution_count": 10,
   "metadata": {},
   "outputs": [],
   "source": [
    "# Step 1: Calculate t-score (95% confidence interval, degree of freedom=n-1=19)\n",
    "t_score=stats.t.ppf(0.975, df=19, loc=0, scale=1)"
   ]
  },
  {
   "cell_type": "code",
   "execution_count": 14,
   "metadata": {},
   "outputs": [],
   "source": [
    "# Step 2: Get confidence interval\n",
    "ci=[s_mean-t_score*(s_std/np.sqrt(20)), s_mean+t_score*(s_std/np.sqrt(20))]"
   ]
  },
  {
   "cell_type": "code",
   "execution_count": 15,
   "metadata": {},
   "outputs": [
    {
     "name": "stdout",
     "output_type": "stream",
     "text": [
      "[1.6703623589177177, 2.430560526016497]\n"
     ]
    }
   ],
   "source": [
    "# Have a look of the confidence interval\n",
    "print(ci)"
   ]
  },
  {
   "cell_type": "code",
   "execution_count": 16,
   "metadata": {},
   "outputs": [
    {
     "data": {
      "image/png": "[encoded data removed]",
      "text/plain": [
       "<Figure size 432x288 with 1 Axes>"
      ]
     },
     "metadata": {
      "needs_background": "light"
     },
     "output_type": "display_data"
    }
   ],
   "source": [
    "# Let's put sample mean distribution, population mean, sample mean, confidence interval on the same graph\n",
    "fig, ax = plt.subplots()\n",
    "plt.hist(p, bins=50, color='c', edgecolor='k', alpha=0.3)\n",
    "plt.plot(s_mean, 0, 'ro', ms=10)\n",
    "plt.axvline(2, color='k', linestyle='dashed', linewidth=1)\n",
    "min_ylim, max_ylim = plt.ylim()\n",
    "plt.text(2, max_ylim*0.9, 'Population Mean: {:.2f}'.format(2))\n",
    "plt.text(s_mean*1.1, max_ylim*0.1, 'Sample Mean: {:.2f}'.format(s_mean))\n",
    "ax.axvspan(ci[0], ci[1], alpha=0.1, color='red')\n",
    "plt.text(-1, max_ylim*0.5, f'Confidence Interval: {round(ci[0],2)} to {round(ci[1],2)}')\n",
    "plt.show()"
   ]
  },
  {
   "cell_type": "code",
   "execution_count": null,
   "metadata": {},
   "outputs": [],
   "source": []
  }
 ],
 "metadata": {
  "kernelspec": {
   "display_name": "Python 3",
   "language": "python",
   "name": "python3"
  },
  "language_info": {
   "codemirror_mode": {
    "name": "ipython",
    "version": 3
   },
   "file_extension": ".py",
   "mimetype": "text/x-python",
   "name": "python",
   "nbconvert_exporter": "python",
   "pygments_lexer": "ipython3",
   "version": "3.7.3"
  }
 },
 "nbformat": 4,
 "nbformat_minor": 2
}
